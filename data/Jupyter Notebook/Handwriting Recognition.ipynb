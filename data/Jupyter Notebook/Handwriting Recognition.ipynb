{
 "cells": [
  {
   "cell_type": "markdown",
   "metadata": {},
   "source": [
    "# $$\\text{Deep Learning Handwriting Recognition}$$\n",
    "# $$\\text{Developing the Model}$$\n",
    "\n",
    "## Introduction\n",
    "\n",
    "The 5 pre-trained models, `model_1.h5` `model_2.h5` `model_3.h5` `model_4.h5` `model_5.h5`, inside this web application are responsible for predicting handwriting. \n",
    "\n",
    "This Jupyter Notebook discusses how these models were created.\n",
    "\n",
    "## Guidelines to Create the Handwriting Neural Network Model\n",
    "\n",
    "In order to create a model to predict handwriting, one would need to go through the following steps.\n",
    "\n",
    "### Create the Training, Testing and Mapping Dataset\n",
    "1. Acquire the outside dataset (with the necessary preparations)\n",
    "2. Create the training, testing and mapping dataset\n",
    "    * The testing dataset will not be important when creating the model, it will be used to determine the final accuracy of the created models\n",
    "3. Prepare these datasets for the ML algorithm\n",
    "\n",
    "### Create The Model\n",
    "4. Generate multiple permutations of models to find which parameters work the best \n",
    "5. Choose a model for the web app\n",
    "\n",
    "### The Model and the Web App\n",
    "6. Tweak the model(s) for the web app, if needed\n",
    "7. Tweak the model(s) for deploying to Heroku, if needed"
   ]
  },
  {
   "cell_type": "markdown",
   "metadata": {},
   "source": [
    "## Create the Training, Testing and Mapping Dataset\n",
    "\n",
    "Before developing the neural network model, data is needed for the model to learn from.\n",
    "\n",
    "### 1. Acquire the outside dataset\n",
    "\n",
    "To begin, all necessary imports are to be initialized, along with the chosen dataset. The dataset chosen is the [EMNIST](https://www.kaggle.com/crawford/emnist) Balanced Dataset on Kaggle. Balanced is chosen as it is described as \"the most applicable\".\n",
    "\n",
    "I have downloaded this dataset into the directory found inside the `DATADIR` variable. If you wish to run this python code locally, change the directory to the location of your downloaded EMNIST."
   ]
  },
  {
   "cell_type": "code",
   "execution_count": 58,
   "metadata": {},
   "outputs": [],
   "source": [
    "import matplotlib.pyplot as plt\n",
    "import numpy as np\n",
    "import os\n",
    "import pandas as pd\n",
    "import tensorflow as tf\n",
    "\n",
    "from tensorflow.keras import utils\n",
    "\n",
    "DATADIR = \"/Users/michaelmccabe/Desktop/Applications/Datasets/emnist\" # The location of my Kaggle EMNIST dataset"
   ]
  },
  {
   "cell_type": "markdown",
   "metadata": {},
   "source": [
    "A dataframe called `train` is created to hold the `'emnist-balanced-train.csv'` file.\n",
    "\n",
    "This CSV file has no headers. The first image data should not be the \"header\", the first row should be part of the data: `header=None`."
   ]
  },
  {
   "cell_type": "code",
   "execution_count": 59,
   "metadata": {},
   "outputs": [],
   "source": [
    "train = pd.read_csv(os.path.join(DATADIR, 'emnist-balanced-train.csv'), header=None)"
   ]
  },
  {
   "cell_type": "markdown",
   "metadata": {},
   "source": [
    "Let's take a look at this `train` dataframe."
   ]
  },
  {
   "cell_type": "code",
   "execution_count": 60,
   "metadata": {},
   "outputs": [
    {
     "data": {
      "text/html": [
       "<div>\n",
       "<style scoped>\n",
       "    .dataframe tbody tr th:only-of-type {\n",
       "        vertical-align: middle;\n",
       "    }\n",
       "\n",
       "    .dataframe tbody tr th {\n",
       "        vertical-align: top;\n",
       "    }\n",
       "\n",
       "    .dataframe thead th {\n",
       "        text-align: right;\n",
       "    }\n",
       "</style>\n",
       "<table border=\"1\" class=\"dataframe\">\n",
       "  <thead>\n",
       "    <tr style=\"text-align: right;\">\n",
       "      <th></th>\n",
       "      <th>0</th>\n",
       "      <th>1</th>\n",
       "      <th>2</th>\n",
       "      <th>3</th>\n",
       "      <th>4</th>\n",
       "      <th>5</th>\n",
       "      <th>6</th>\n",
       "      <th>7</th>\n",
       "      <th>8</th>\n",
       "      <th>9</th>\n",
       "      <th>...</th>\n",
       "      <th>775</th>\n",
       "      <th>776</th>\n",
       "      <th>777</th>\n",
       "      <th>778</th>\n",
       "      <th>779</th>\n",
       "      <th>780</th>\n",
       "      <th>781</th>\n",
       "      <th>782</th>\n",
       "      <th>783</th>\n",
       "      <th>784</th>\n",
       "    </tr>\n",
       "  </thead>\n",
       "  <tbody>\n",
       "    <tr>\n",
       "      <th>0</th>\n",
       "      <td>45</td>\n",
       "      <td>0</td>\n",
       "      <td>0</td>\n",
       "      <td>0</td>\n",
       "      <td>0</td>\n",
       "      <td>0</td>\n",
       "      <td>0</td>\n",
       "      <td>0</td>\n",
       "      <td>0</td>\n",
       "      <td>0</td>\n",
       "      <td>...</td>\n",
       "      <td>0</td>\n",
       "      <td>0</td>\n",
       "      <td>0</td>\n",
       "      <td>0</td>\n",
       "      <td>0</td>\n",
       "      <td>0</td>\n",
       "      <td>0</td>\n",
       "      <td>0</td>\n",
       "      <td>0</td>\n",
       "      <td>0</td>\n",
       "    </tr>\n",
       "    <tr>\n",
       "      <th>1</th>\n",
       "      <td>36</td>\n",
       "      <td>0</td>\n",
       "      <td>0</td>\n",
       "      <td>0</td>\n",
       "      <td>0</td>\n",
       "      <td>0</td>\n",
       "      <td>0</td>\n",
       "      <td>0</td>\n",
       "      <td>0</td>\n",
       "      <td>0</td>\n",
       "      <td>...</td>\n",
       "      <td>0</td>\n",
       "      <td>0</td>\n",
       "      <td>0</td>\n",
       "      <td>0</td>\n",
       "      <td>0</td>\n",
       "      <td>0</td>\n",
       "      <td>0</td>\n",
       "      <td>0</td>\n",
       "      <td>0</td>\n",
       "      <td>0</td>\n",
       "    </tr>\n",
       "    <tr>\n",
       "      <th>2</th>\n",
       "      <td>43</td>\n",
       "      <td>0</td>\n",
       "      <td>0</td>\n",
       "      <td>0</td>\n",
       "      <td>0</td>\n",
       "      <td>0</td>\n",
       "      <td>0</td>\n",
       "      <td>0</td>\n",
       "      <td>0</td>\n",
       "      <td>0</td>\n",
       "      <td>...</td>\n",
       "      <td>0</td>\n",
       "      <td>0</td>\n",
       "      <td>0</td>\n",
       "      <td>0</td>\n",
       "      <td>0</td>\n",
       "      <td>0</td>\n",
       "      <td>0</td>\n",
       "      <td>0</td>\n",
       "      <td>0</td>\n",
       "      <td>0</td>\n",
       "    </tr>\n",
       "    <tr>\n",
       "      <th>3</th>\n",
       "      <td>15</td>\n",
       "      <td>0</td>\n",
       "      <td>0</td>\n",
       "      <td>0</td>\n",
       "      <td>0</td>\n",
       "      <td>0</td>\n",
       "      <td>0</td>\n",
       "      <td>0</td>\n",
       "      <td>0</td>\n",
       "      <td>0</td>\n",
       "      <td>...</td>\n",
       "      <td>0</td>\n",
       "      <td>0</td>\n",
       "      <td>0</td>\n",
       "      <td>0</td>\n",
       "      <td>0</td>\n",
       "      <td>0</td>\n",
       "      <td>0</td>\n",
       "      <td>0</td>\n",
       "      <td>0</td>\n",
       "      <td>0</td>\n",
       "    </tr>\n",
       "    <tr>\n",
       "      <th>4</th>\n",
       "      <td>4</td>\n",
       "      <td>0</td>\n",
       "      <td>0</td>\n",
       "      <td>0</td>\n",
       "      <td>0</td>\n",
       "      <td>0</td>\n",
       "      <td>0</td>\n",
       "      <td>0</td>\n",
       "      <td>0</td>\n",
       "      <td>0</td>\n",
       "      <td>...</td>\n",
       "      <td>0</td>\n",
       "      <td>0</td>\n",
       "      <td>0</td>\n",
       "      <td>0</td>\n",
       "      <td>0</td>\n",
       "      <td>0</td>\n",
       "      <td>0</td>\n",
       "      <td>0</td>\n",
       "      <td>0</td>\n",
       "      <td>0</td>\n",
       "    </tr>\n",
       "    <tr>\n",
       "      <th>5</th>\n",
       "      <td>42</td>\n",
       "      <td>0</td>\n",
       "      <td>0</td>\n",
       "      <td>0</td>\n",
       "      <td>0</td>\n",
       "      <td>0</td>\n",
       "      <td>0</td>\n",
       "      <td>0</td>\n",
       "      <td>0</td>\n",
       "      <td>0</td>\n",
       "      <td>...</td>\n",
       "      <td>0</td>\n",
       "      <td>0</td>\n",
       "      <td>0</td>\n",
       "      <td>0</td>\n",
       "      <td>0</td>\n",
       "      <td>0</td>\n",
       "      <td>0</td>\n",
       "      <td>0</td>\n",
       "      <td>0</td>\n",
       "      <td>0</td>\n",
       "    </tr>\n",
       "    <tr>\n",
       "      <th>6</th>\n",
       "      <td>26</td>\n",
       "      <td>0</td>\n",
       "      <td>0</td>\n",
       "      <td>0</td>\n",
       "      <td>0</td>\n",
       "      <td>0</td>\n",
       "      <td>0</td>\n",
       "      <td>0</td>\n",
       "      <td>0</td>\n",
       "      <td>0</td>\n",
       "      <td>...</td>\n",
       "      <td>0</td>\n",
       "      <td>0</td>\n",
       "      <td>0</td>\n",
       "      <td>0</td>\n",
       "      <td>0</td>\n",
       "      <td>0</td>\n",
       "      <td>0</td>\n",
       "      <td>0</td>\n",
       "      <td>0</td>\n",
       "      <td>0</td>\n",
       "    </tr>\n",
       "    <tr>\n",
       "      <th>7</th>\n",
       "      <td>32</td>\n",
       "      <td>0</td>\n",
       "      <td>0</td>\n",
       "      <td>0</td>\n",
       "      <td>0</td>\n",
       "      <td>0</td>\n",
       "      <td>0</td>\n",
       "      <td>0</td>\n",
       "      <td>0</td>\n",
       "      <td>0</td>\n",
       "      <td>...</td>\n",
       "      <td>0</td>\n",
       "      <td>0</td>\n",
       "      <td>0</td>\n",
       "      <td>0</td>\n",
       "      <td>0</td>\n",
       "      <td>0</td>\n",
       "      <td>0</td>\n",
       "      <td>0</td>\n",
       "      <td>0</td>\n",
       "      <td>0</td>\n",
       "    </tr>\n",
       "    <tr>\n",
       "      <th>8</th>\n",
       "      <td>20</td>\n",
       "      <td>0</td>\n",
       "      <td>0</td>\n",
       "      <td>0</td>\n",
       "      <td>0</td>\n",
       "      <td>0</td>\n",
       "      <td>0</td>\n",
       "      <td>0</td>\n",
       "      <td>0</td>\n",
       "      <td>0</td>\n",
       "      <td>...</td>\n",
       "      <td>0</td>\n",
       "      <td>0</td>\n",
       "      <td>0</td>\n",
       "      <td>0</td>\n",
       "      <td>0</td>\n",
       "      <td>0</td>\n",
       "      <td>0</td>\n",
       "      <td>0</td>\n",
       "      <td>0</td>\n",
       "      <td>0</td>\n",
       "    </tr>\n",
       "    <tr>\n",
       "      <th>9</th>\n",
       "      <td>1</td>\n",
       "      <td>0</td>\n",
       "      <td>0</td>\n",
       "      <td>0</td>\n",
       "      <td>0</td>\n",
       "      <td>0</td>\n",
       "      <td>0</td>\n",
       "      <td>0</td>\n",
       "      <td>0</td>\n",
       "      <td>0</td>\n",
       "      <td>...</td>\n",
       "      <td>0</td>\n",
       "      <td>0</td>\n",
       "      <td>0</td>\n",
       "      <td>0</td>\n",
       "      <td>0</td>\n",
       "      <td>0</td>\n",
       "      <td>0</td>\n",
       "      <td>0</td>\n",
       "      <td>0</td>\n",
       "      <td>0</td>\n",
       "    </tr>\n",
       "  </tbody>\n",
       "</table>\n",
       "<p>10 rows × 785 columns</p>\n",
       "</div>"
      ],
      "text/plain": [
       "   0    1    2    3    4    5    6    7    8    9    ...  775  776  777  778  \\\n",
       "0   45    0    0    0    0    0    0    0    0    0  ...    0    0    0    0   \n",
       "1   36    0    0    0    0    0    0    0    0    0  ...    0    0    0    0   \n",
       "2   43    0    0    0    0    0    0    0    0    0  ...    0    0    0    0   \n",
       "3   15    0    0    0    0    0    0    0    0    0  ...    0    0    0    0   \n",
       "4    4    0    0    0    0    0    0    0    0    0  ...    0    0    0    0   \n",
       "5   42    0    0    0    0    0    0    0    0    0  ...    0    0    0    0   \n",
       "6   26    0    0    0    0    0    0    0    0    0  ...    0    0    0    0   \n",
       "7   32    0    0    0    0    0    0    0    0    0  ...    0    0    0    0   \n",
       "8   20    0    0    0    0    0    0    0    0    0  ...    0    0    0    0   \n",
       "9    1    0    0    0    0    0    0    0    0    0  ...    0    0    0    0   \n",
       "\n",
       "   779  780  781  782  783  784  \n",
       "0    0    0    0    0    0    0  \n",
       "1    0    0    0    0    0    0  \n",
       "2    0    0    0    0    0    0  \n",
       "3    0    0    0    0    0    0  \n",
       "4    0    0    0    0    0    0  \n",
       "5    0    0    0    0    0    0  \n",
       "6    0    0    0    0    0    0  \n",
       "7    0    0    0    0    0    0  \n",
       "8    0    0    0    0    0    0  \n",
       "9    0    0    0    0    0    0  \n",
       "\n",
       "[10 rows x 785 columns]"
      ]
     },
     "execution_count": 60,
     "metadata": {},
     "output_type": "execute_result"
    }
   ],
   "source": [
    "train.head(10)"
   ]
  },
  {
   "cell_type": "markdown",
   "metadata": {},
   "source": [
    "A dataframe called `test` is created to hold the `emnist-balanced-test.csv` file.\n",
    "\n",
    "The same operations are performed on this `test` dataframe."
   ]
  },
  {
   "cell_type": "code",
   "execution_count": 61,
   "metadata": {},
   "outputs": [],
   "source": [
    "test = pd.read_csv(os.path.join(DATADIR, 'emnist-balanced-test.csv'), header=None)"
   ]
  },
  {
   "cell_type": "code",
   "execution_count": 62,
   "metadata": {
    "scrolled": true
   },
   "outputs": [
    {
     "data": {
      "text/html": [
       "<div>\n",
       "<style scoped>\n",
       "    .dataframe tbody tr th:only-of-type {\n",
       "        vertical-align: middle;\n",
       "    }\n",
       "\n",
       "    .dataframe tbody tr th {\n",
       "        vertical-align: top;\n",
       "    }\n",
       "\n",
       "    .dataframe thead th {\n",
       "        text-align: right;\n",
       "    }\n",
       "</style>\n",
       "<table border=\"1\" class=\"dataframe\">\n",
       "  <thead>\n",
       "    <tr style=\"text-align: right;\">\n",
       "      <th></th>\n",
       "      <th>0</th>\n",
       "      <th>1</th>\n",
       "      <th>2</th>\n",
       "      <th>3</th>\n",
       "      <th>4</th>\n",
       "      <th>5</th>\n",
       "      <th>6</th>\n",
       "      <th>7</th>\n",
       "      <th>8</th>\n",
       "      <th>9</th>\n",
       "      <th>...</th>\n",
       "      <th>775</th>\n",
       "      <th>776</th>\n",
       "      <th>777</th>\n",
       "      <th>778</th>\n",
       "      <th>779</th>\n",
       "      <th>780</th>\n",
       "      <th>781</th>\n",
       "      <th>782</th>\n",
       "      <th>783</th>\n",
       "      <th>784</th>\n",
       "    </tr>\n",
       "  </thead>\n",
       "  <tbody>\n",
       "    <tr>\n",
       "      <th>0</th>\n",
       "      <td>41</td>\n",
       "      <td>0</td>\n",
       "      <td>0</td>\n",
       "      <td>0</td>\n",
       "      <td>0</td>\n",
       "      <td>0</td>\n",
       "      <td>0</td>\n",
       "      <td>0</td>\n",
       "      <td>0</td>\n",
       "      <td>0</td>\n",
       "      <td>...</td>\n",
       "      <td>0</td>\n",
       "      <td>0</td>\n",
       "      <td>0</td>\n",
       "      <td>0</td>\n",
       "      <td>0</td>\n",
       "      <td>0</td>\n",
       "      <td>0</td>\n",
       "      <td>0</td>\n",
       "      <td>0</td>\n",
       "      <td>0</td>\n",
       "    </tr>\n",
       "    <tr>\n",
       "      <th>1</th>\n",
       "      <td>39</td>\n",
       "      <td>0</td>\n",
       "      <td>0</td>\n",
       "      <td>0</td>\n",
       "      <td>0</td>\n",
       "      <td>0</td>\n",
       "      <td>0</td>\n",
       "      <td>0</td>\n",
       "      <td>0</td>\n",
       "      <td>0</td>\n",
       "      <td>...</td>\n",
       "      <td>0</td>\n",
       "      <td>0</td>\n",
       "      <td>0</td>\n",
       "      <td>0</td>\n",
       "      <td>0</td>\n",
       "      <td>0</td>\n",
       "      <td>0</td>\n",
       "      <td>0</td>\n",
       "      <td>0</td>\n",
       "      <td>0</td>\n",
       "    </tr>\n",
       "    <tr>\n",
       "      <th>2</th>\n",
       "      <td>9</td>\n",
       "      <td>0</td>\n",
       "      <td>0</td>\n",
       "      <td>0</td>\n",
       "      <td>0</td>\n",
       "      <td>0</td>\n",
       "      <td>0</td>\n",
       "      <td>0</td>\n",
       "      <td>0</td>\n",
       "      <td>0</td>\n",
       "      <td>...</td>\n",
       "      <td>0</td>\n",
       "      <td>0</td>\n",
       "      <td>0</td>\n",
       "      <td>0</td>\n",
       "      <td>0</td>\n",
       "      <td>0</td>\n",
       "      <td>0</td>\n",
       "      <td>0</td>\n",
       "      <td>0</td>\n",
       "      <td>0</td>\n",
       "    </tr>\n",
       "    <tr>\n",
       "      <th>3</th>\n",
       "      <td>26</td>\n",
       "      <td>0</td>\n",
       "      <td>0</td>\n",
       "      <td>0</td>\n",
       "      <td>0</td>\n",
       "      <td>0</td>\n",
       "      <td>0</td>\n",
       "      <td>0</td>\n",
       "      <td>0</td>\n",
       "      <td>0</td>\n",
       "      <td>...</td>\n",
       "      <td>0</td>\n",
       "      <td>0</td>\n",
       "      <td>0</td>\n",
       "      <td>0</td>\n",
       "      <td>0</td>\n",
       "      <td>0</td>\n",
       "      <td>0</td>\n",
       "      <td>0</td>\n",
       "      <td>0</td>\n",
       "      <td>0</td>\n",
       "    </tr>\n",
       "    <tr>\n",
       "      <th>4</th>\n",
       "      <td>44</td>\n",
       "      <td>0</td>\n",
       "      <td>0</td>\n",
       "      <td>0</td>\n",
       "      <td>0</td>\n",
       "      <td>0</td>\n",
       "      <td>0</td>\n",
       "      <td>0</td>\n",
       "      <td>0</td>\n",
       "      <td>0</td>\n",
       "      <td>...</td>\n",
       "      <td>0</td>\n",
       "      <td>0</td>\n",
       "      <td>0</td>\n",
       "      <td>0</td>\n",
       "      <td>0</td>\n",
       "      <td>0</td>\n",
       "      <td>0</td>\n",
       "      <td>0</td>\n",
       "      <td>0</td>\n",
       "      <td>0</td>\n",
       "    </tr>\n",
       "    <tr>\n",
       "      <th>5</th>\n",
       "      <td>33</td>\n",
       "      <td>0</td>\n",
       "      <td>0</td>\n",
       "      <td>0</td>\n",
       "      <td>0</td>\n",
       "      <td>0</td>\n",
       "      <td>0</td>\n",
       "      <td>0</td>\n",
       "      <td>0</td>\n",
       "      <td>0</td>\n",
       "      <td>...</td>\n",
       "      <td>0</td>\n",
       "      <td>0</td>\n",
       "      <td>0</td>\n",
       "      <td>0</td>\n",
       "      <td>0</td>\n",
       "      <td>0</td>\n",
       "      <td>0</td>\n",
       "      <td>0</td>\n",
       "      <td>0</td>\n",
       "      <td>0</td>\n",
       "    </tr>\n",
       "    <tr>\n",
       "      <th>6</th>\n",
       "      <td>14</td>\n",
       "      <td>0</td>\n",
       "      <td>0</td>\n",
       "      <td>0</td>\n",
       "      <td>0</td>\n",
       "      <td>0</td>\n",
       "      <td>0</td>\n",
       "      <td>0</td>\n",
       "      <td>0</td>\n",
       "      <td>0</td>\n",
       "      <td>...</td>\n",
       "      <td>0</td>\n",
       "      <td>0</td>\n",
       "      <td>0</td>\n",
       "      <td>0</td>\n",
       "      <td>0</td>\n",
       "      <td>0</td>\n",
       "      <td>0</td>\n",
       "      <td>0</td>\n",
       "      <td>0</td>\n",
       "      <td>0</td>\n",
       "    </tr>\n",
       "    <tr>\n",
       "      <th>7</th>\n",
       "      <td>11</td>\n",
       "      <td>0</td>\n",
       "      <td>0</td>\n",
       "      <td>0</td>\n",
       "      <td>0</td>\n",
       "      <td>0</td>\n",
       "      <td>0</td>\n",
       "      <td>0</td>\n",
       "      <td>0</td>\n",
       "      <td>0</td>\n",
       "      <td>...</td>\n",
       "      <td>0</td>\n",
       "      <td>0</td>\n",
       "      <td>0</td>\n",
       "      <td>0</td>\n",
       "      <td>0</td>\n",
       "      <td>0</td>\n",
       "      <td>0</td>\n",
       "      <td>0</td>\n",
       "      <td>0</td>\n",
       "      <td>0</td>\n",
       "    </tr>\n",
       "    <tr>\n",
       "      <th>8</th>\n",
       "      <td>3</td>\n",
       "      <td>0</td>\n",
       "      <td>0</td>\n",
       "      <td>0</td>\n",
       "      <td>0</td>\n",
       "      <td>0</td>\n",
       "      <td>0</td>\n",
       "      <td>0</td>\n",
       "      <td>0</td>\n",
       "      <td>0</td>\n",
       "      <td>...</td>\n",
       "      <td>0</td>\n",
       "      <td>0</td>\n",
       "      <td>0</td>\n",
       "      <td>0</td>\n",
       "      <td>0</td>\n",
       "      <td>0</td>\n",
       "      <td>0</td>\n",
       "      <td>0</td>\n",
       "      <td>0</td>\n",
       "      <td>0</td>\n",
       "    </tr>\n",
       "    <tr>\n",
       "      <th>9</th>\n",
       "      <td>12</td>\n",
       "      <td>0</td>\n",
       "      <td>0</td>\n",
       "      <td>0</td>\n",
       "      <td>0</td>\n",
       "      <td>0</td>\n",
       "      <td>0</td>\n",
       "      <td>0</td>\n",
       "      <td>0</td>\n",
       "      <td>0</td>\n",
       "      <td>...</td>\n",
       "      <td>0</td>\n",
       "      <td>0</td>\n",
       "      <td>0</td>\n",
       "      <td>0</td>\n",
       "      <td>0</td>\n",
       "      <td>0</td>\n",
       "      <td>0</td>\n",
       "      <td>0</td>\n",
       "      <td>0</td>\n",
       "      <td>0</td>\n",
       "    </tr>\n",
       "  </tbody>\n",
       "</table>\n",
       "<p>10 rows × 785 columns</p>\n",
       "</div>"
      ],
      "text/plain": [
       "   0    1    2    3    4    5    6    7    8    9    ...  775  776  777  778  \\\n",
       "0   41    0    0    0    0    0    0    0    0    0  ...    0    0    0    0   \n",
       "1   39    0    0    0    0    0    0    0    0    0  ...    0    0    0    0   \n",
       "2    9    0    0    0    0    0    0    0    0    0  ...    0    0    0    0   \n",
       "3   26    0    0    0    0    0    0    0    0    0  ...    0    0    0    0   \n",
       "4   44    0    0    0    0    0    0    0    0    0  ...    0    0    0    0   \n",
       "5   33    0    0    0    0    0    0    0    0    0  ...    0    0    0    0   \n",
       "6   14    0    0    0    0    0    0    0    0    0  ...    0    0    0    0   \n",
       "7   11    0    0    0    0    0    0    0    0    0  ...    0    0    0    0   \n",
       "8    3    0    0    0    0    0    0    0    0    0  ...    0    0    0    0   \n",
       "9   12    0    0    0    0    0    0    0    0    0  ...    0    0    0    0   \n",
       "\n",
       "   779  780  781  782  783  784  \n",
       "0    0    0    0    0    0    0  \n",
       "1    0    0    0    0    0    0  \n",
       "2    0    0    0    0    0    0  \n",
       "3    0    0    0    0    0    0  \n",
       "4    0    0    0    0    0    0  \n",
       "5    0    0    0    0    0    0  \n",
       "6    0    0    0    0    0    0  \n",
       "7    0    0    0    0    0    0  \n",
       "8    0    0    0    0    0    0  \n",
       "9    0    0    0    0    0    0  \n",
       "\n",
       "[10 rows x 785 columns]"
      ]
     },
     "execution_count": 62,
     "metadata": {},
     "output_type": "execute_result"
    }
   ],
   "source": [
    "test.head(10)"
   ]
  },
  {
   "cell_type": "markdown",
   "metadata": {},
   "source": [
    "A dataframe called `mapp` is created to hold the `emnist-balanced-mapping.txt` file. This mapping file is structured where the first column is simply the index, and the 2nd column is the character code.\n",
    "\n",
    "Examples: chr `48` is `0`, chr `65` is `A`, chr `116` is `t`\n",
    "\n",
    "`mapp` Dataframe Parameters:\n",
    "* The txt file is seperated by spaces: `delimiter = ' '`\n",
    "* The txt file has no headers: `header=None`\n",
    "* We do not need the 1st column of data, we want the 2nd column as the only column in our `mapp` dataframe: `usecols=[1]`\n",
    "* Because the data is only one column, `squeeze=True` can be used to return a series which will allow access to array methods\n"
   ]
  },
  {
   "cell_type": "code",
   "execution_count": 63,
   "metadata": {},
   "outputs": [
    {
     "data": {
      "text/plain": [
       "0     48\n",
       "1     49\n",
       "2     50\n",
       "3     51\n",
       "4     52\n",
       "5     53\n",
       "6     54\n",
       "7     55\n",
       "8     56\n",
       "9     57\n",
       "10    65\n",
       "11    66\n",
       "Name: 1, dtype: int64"
      ]
     },
     "execution_count": 63,
     "metadata": {},
     "output_type": "execute_result"
    }
   ],
   "source": [
    "mapp = pd.read_csv(\"/Users/michaelmccabe/Desktop/Applications/Datasets/emnist/emnist-balanced-mapping.txt\"\n",
    "                       , delimiter = ' ', header=None, usecols=[1], squeeze=True)\n",
    "mapp.head(12)"
   ]
  },
  {
   "cell_type": "code",
   "execution_count": 64,
   "metadata": {},
   "outputs": [
    {
     "name": "stdout",
     "output_type": "stream",
     "text": [
      "char code of index 46 is 116\n",
      "t\n"
     ]
    }
   ],
   "source": [
    "# testing out the charcodes\n",
    "print(\"char code of index 46 is\", mapp[46])\n",
    "print(chr(mapp[46]))"
   ]
  },
  {
   "cell_type": "markdown",
   "metadata": {},
   "source": [
    "The variable `class_mapping` is created to map indices with the actual character associated with it."
   ]
  },
  {
   "cell_type": "code",
   "execution_count": 65,
   "metadata": {},
   "outputs": [],
   "source": [
    "class_mapping = []\n",
    "\n",
    "for num in range(len(mapp)):\n",
    "    class_mapping.append(chr(mapp[num]))"
   ]
  },
  {
   "cell_type": "markdown",
   "metadata": {},
   "source": [
    "Let's make sure our class_mapping works."
   ]
  },
  {
   "cell_type": "code",
   "execution_count": 66,
   "metadata": {},
   "outputs": [
    {
     "data": {
      "text/plain": [
       "'r'"
      ]
     },
     "execution_count": 66,
     "metadata": {},
     "output_type": "execute_result"
    }
   ],
   "source": [
    "class_mapping[45]"
   ]
  },
  {
   "cell_type": "markdown",
   "metadata": {},
   "source": [
    "Let's check out the shapes of the data."
   ]
  },
  {
   "cell_type": "code",
   "execution_count": 67,
   "metadata": {
    "scrolled": true
   },
   "outputs": [
    {
     "name": "stdout",
     "output_type": "stream",
     "text": [
      "(112800, 785) (18800, 785) (47,)\n"
     ]
    }
   ],
   "source": [
    "print(train.shape, test.shape, mapp.shape)"
   ]
  },
  {
   "cell_type": "markdown",
   "metadata": {},
   "source": [
    "Create a variable, `class_num`, to store the number of classifications our model will predict. This will be the number of output layer neurons for the model."
   ]
  },
  {
   "cell_type": "code",
   "execution_count": 68,
   "metadata": {},
   "outputs": [
    {
     "data": {
      "text/plain": [
       "47"
      ]
     },
     "execution_count": 68,
     "metadata": {},
     "output_type": "execute_result"
    }
   ],
   "source": [
    "class_num = len(class_mapping)\n",
    "class_num"
   ]
  },
  {
   "cell_type": "markdown",
   "metadata": {},
   "source": [
    "### 2. Create the training, testing and mapping dataset\n",
    "\n",
    "Now that the `train`, `test`, and `map` variables are all set up, it will be good to check out the images before the datasets are created.\n",
    "\n",
    "### Test a singular image\n",
    "\n",
    "How an image from the EMNIST dataset will be displayed:\n",
    "1. An arbitrary image from the `train` dataset is chosen: image number `631`\n",
    "    * This arbitrary image number is stored inside `test_row_num`\n",
    "2. The character associated with every image is found in the first column (the class)\n",
    "3. The pixel data is located in the remaining colums (784 columns for a 28x28 image)\n",
    "    * The pixel data is stored inside `test_row_num_img`\n",
    "4. The data must be reshaped into a `28x28` image (per EMNIST)\n",
    "    * Shape before: `(784,)`\n",
    "    * Shape after: `(28,28)`"
   ]
  },
  {
   "cell_type": "code",
   "execution_count": 81,
   "metadata": {},
   "outputs": [],
   "source": [
    "test_row_num = 631\n",
    "test_row_num_img = train.values[test_row_num, 1:]\n",
    "HEIGHT = 28\n",
    "WIDTH = 28\n",
    "\n",
    "reshape_img = test_row_num_img.reshape(HEIGHT,WIDTH)"
   ]
  },
  {
   "cell_type": "markdown",
   "metadata": {},
   "source": [
    "### Take a look at the singular image\n",
    "\n",
    "`matplotlib` is used to plot the arbitrary image from the `train` dataset."
   ]
  },
  {
   "cell_type": "code",
   "execution_count": 82,
   "metadata": {},
   "outputs": [
    {
     "data": {
      "image/png": "[encoded data removed]",
      "text/plain": [
       "<Figure size 432x288 with 1 Axes>"
      ]
     },
     "metadata": {
      "needs_background": "light"
     },
     "output_type": "display_data"
    }
   ],
   "source": [
    "test_char = class_mapping[train.values[test_row_num,0]]\n",
    "\n",
    "plt.imshow(reshape_img, cmap=plt.cm.binary)\n",
    "plt.title(\"This image is: {}\".format(test_char))\n",
    "plt.show()"
   ]
  },
  {
   "cell_type": "markdown",
   "metadata": {},
   "source": [
    "### Result\n",
    "\n",
    "Everything is correct, however the image is flipped."
   ]
  },
  {
   "cell_type": "markdown",
   "metadata": {},
   "source": [
    "### Transpose the matrix of pixels into its correct position\n",
    "\n",
    "The image was transposed using `numpy`.\n",
    " * Provide `np.transpose` the image, `reshape_img`, and `axes=[1,0]` to invert the image"
   ]
  },
  {
   "cell_type": "code",
   "execution_count": 83,
   "metadata": {
    "scrolled": true
   },
   "outputs": [
    {
     "data": {
      "image/png": "[encoded data removed]",
      "text/plain": [
       "<Figure size 432x288 with 1 Axes>"
      ]
     },
     "metadata": {
      "needs_background": "light"
     },
     "output_type": "display_data"
    }
   ],
   "source": [
    "img_flip = np.transpose(reshape_img, axes=[1,0])\n",
    "plt.imshow(img_flip, cmap=plt.cm.binary)\n",
    "plt.title(\"This image is: {}\".format(test_char))\n",
    "plt.show()"
   ]
  },
  {
   "cell_type": "markdown",
   "metadata": {},
   "source": [
    "### Result\n",
    "\n",
    "The data is structured appropriately. These operations will be performed on every single image."
   ]
  },
  {
   "cell_type": "markdown",
   "metadata": {},
   "source": [
    "## Creating the dataset\n",
    "\n",
    "Operations needed for each training and testing image:\n",
    "\n",
    "1. Data is reshaped into (28,28) shapes\n",
    "\n",
    "2. Data is transposed into its correct position"
   ]
  },
  {
   "cell_type": "markdown",
   "metadata": {},
   "source": [
    "### Functions to Asssist Us\n",
    "\n",
    "1.  `convert_training_data`: will convert the data into proper images for our dataset,\n",
    "\n",
    "2. `get_char` will give us the correct character associated with a particular image\n"
   ]
  },
  {
   "cell_type": "code",
   "execution_count": 84,
   "metadata": {},
   "outputs": [],
   "source": [
    "def convert_training_data(df,row):\n",
    "    pxl_data = df.values[row,1:]\n",
    "    # Reshape the image coming in\n",
    "    pxl_reshape = pxl_data.reshape(HEIGHT,WIDTH)\n",
    "    # Invert the image\n",
    "    final_img = np.transpose(pxl_reshape, axes=[1,0])\n",
    "    return final_img\n",
    "\n",
    "def get_char(df, row):\n",
    "    return class_mapping[df.values[row,0]]"
   ]
  },
  {
   "cell_type": "markdown",
   "metadata": {},
   "source": [
    "### Test the Functions\n",
    "\n",
    "Make sure that these functions work."
   ]
  },
  {
   "cell_type": "code",
   "execution_count": 16,
   "metadata": {},
   "outputs": [
    {
     "data": {
      "image/png": "[encoded data removed]",
      "text/plain": [
       "<Figure size 432x288 with 1 Axes>"
      ]
     },
     "metadata": {
      "needs_background": "light"
     },
     "output_type": "display_data"
    }
   ],
   "source": [
    "# Test out the function\n",
    "\n",
    "test_row = 32\n",
    "\n",
    "test_row_img_data = convert_training_data(train, test_row)\n",
    "test_char = get_char(train, test_row)\n",
    "\n",
    "plt.imshow(test_row_img_data, cmap=plt.cm.binary)\n",
    "plt.title(\"This image is: {}\".format(test_char))\n",
    "plt.show()"
   ]
  },
  {
   "cell_type": "markdown",
   "metadata": {},
   "source": [
    "## Build the Datasets to Create Our Model\n",
    "\n",
    "Every image inside the `train` and `test` is converted into a correctly-oriented `(28,28)` shape and stored inside its respective array variable. When complete, pixel data is normalized (scaled) so that pixel values range from 0 to 1 instead of 0 to 255. This normalization helps make it easier for the neural network to learn."
   ]
  },
  {
   "cell_type": "code",
   "execution_count": 17,
   "metadata": {},
   "outputs": [],
   "source": [
    "# Iterate through \"train\" and build our dataset\n",
    "\n",
    "train_x = []\n",
    "test_x = []\n",
    "\n",
    "for i in range(len(train)):\n",
    "    train_x.append(convert_training_data(train,i))\n",
    "\n",
    "for i in range(len(test)):\n",
    "    test_x.append(convert_training_data(test,i))\n",
    "\n",
    "train_x = np.asarray(train_x)\n",
    "test_x = np.asarray(test_x)\n",
    "\n",
    "# normalize the data\n",
    "\n",
    "train_x = train_x.astype('float32')\n",
    "train_x /= 255\n",
    "test_x = test_x.astype('float32')\n",
    "test_x /= 255"
   ]
  },
  {
   "cell_type": "markdown",
   "metadata": {},
   "source": [
    "Let's check the shape of these arrays"
   ]
  },
  {
   "cell_type": "code",
   "execution_count": 18,
   "metadata": {},
   "outputs": [
    {
     "name": "stdout",
     "output_type": "stream",
     "text": [
      "(112800, 28, 28) (18800, 28, 28)\n"
     ]
    }
   ],
   "source": [
    "print(train_x.shape, test_x.shape)"
   ]
  },
  {
   "cell_type": "markdown",
   "metadata": {},
   "source": [
    "## Create the \"answers\" to the train and test data\n",
    "\n",
    "The arrays `train_y` and `test_y` will hold the answers to `train_x` and `test_x` respectively. The \"answers\" or \"classes\" to this data is found in the 1st column of the `train` and `test` dataframes.\n",
    "\n",
    "Take note that `train_y` and `test_y` do not have a 2nd dimension in its tuple - this will be addressed this later."
   ]
  },
  {
   "cell_type": "code",
   "execution_count": 19,
   "metadata": {},
   "outputs": [],
   "source": [
    "train_y = train.iloc[:,0]\n",
    "test_y = test.iloc[:,0]"
   ]
  },
  {
   "cell_type": "code",
   "execution_count": 20,
   "metadata": {},
   "outputs": [
    {
     "name": "stdout",
     "output_type": "stream",
     "text": [
      "train_y:  (112800,)\n",
      "test_y:  (18800,)\n"
     ]
    }
   ],
   "source": [
    "print(\"train_y: \", train_y.shape)\n",
    "print(\"test_y: \", test_y.shape)"
   ]
  },
  {
   "cell_type": "markdown",
   "metadata": {},
   "source": [
    "## Plot a few Train and Test images and their answers\n",
    "\n",
    "Make sure that the images have correct solutions attached to them."
   ]
  },
  {
   "cell_type": "code",
   "execution_count": 21,
   "metadata": {
    "scrolled": true
   },
   "outputs": [
    {
     "data": {
      "image/png": "[encoded data removed]",
      "text/plain": [
       "<Figure size 576x576 with 16 Axes>"
      ]
     },
     "metadata": {
      "needs_background": "light"
     },
     "output_type": "display_data"
    }
   ],
   "source": [
    "# Plot 4 columns and 4 rows for a subplot\n",
    "plt_cols = 4\n",
    "plt_rows = 4\n",
    "\n",
    "# Start at image #100 of our train_x dataset\n",
    "row_to_start = 100\n",
    "\n",
    "# Create a figure, where each figure has a size (8,8)\n",
    "fig=plt.figure(figsize=(8, 8))\n",
    "\n",
    "# iterate between row_to_start to the amount of rows and cols we have created\n",
    "for i in range(row_to_start, row_to_start + plt_cols*plt_rows):\n",
    "    # each plot will initate the same rows and cols, for the 3rd param we will iterate from 1 to (rows * cols)\n",
    "    fig.add_subplot(plt_rows, plt_cols, i - row_to_start + 1)\n",
    "    fig.tight_layout()\n",
    "    #image to show is the train_x\n",
    "    plt.imshow(train_x[i], cmap=plt.get_cmap('gray'))\n",
    "    plt.title(class_mapping[train_y[i]])\n",
    "plt.show()"
   ]
  },
  {
   "cell_type": "code",
   "execution_count": 22,
   "metadata": {},
   "outputs": [
    {
     "data": {
      "image/png": "[encoded data removed]",
      "text/plain": [
       "<Figure size 576x576 with 16 Axes>"
      ]
     },
     "metadata": {
      "needs_background": "light"
     },
     "output_type": "display_data"
    }
   ],
   "source": [
    "# Plot 4 columns and 4 rows for a subplot\n",
    "plt_cols = 4\n",
    "plt_rows = 4\n",
    "\n",
    "# Start at image #100 of our test_x dataset\n",
    "row_to_start = 100\n",
    "\n",
    "# Create a figure, where each figure has a size (8,8)\n",
    "fig=plt.figure(figsize=(8, 8))\n",
    "\n",
    "# iterate between row_to_start to the amount of rows and cols we have created\n",
    "for i in range(row_to_start, row_to_start + plt_cols*plt_rows):\n",
    "    # each plot will initate the same rows and cols, for the 3rd param we will iterate from 1 to (rows * cols)\n",
    "    fig.add_subplot(plt_rows, plt_cols, i - row_to_start + 1)\n",
    "    fig.tight_layout()\n",
    "    #image to show is the test_x\n",
    "    plt.imshow(test_x[i], cmap=plt.get_cmap('gray'))\n",
    "    plt.title(class_mapping[test_y[i]])\n",
    "plt.show()"
   ]
  },
  {
   "cell_type": "markdown",
   "metadata": {},
   "source": [
    "### Result\n",
    "\n",
    "Both `train_x` and `train_y`, as well as `test_x` and `test_y`, are appropriately matched."
   ]
  },
  {
   "cell_type": "markdown",
   "metadata": {},
   "source": [
    "## Saving datasets before reshape\n",
    "\n",
    "There are a few issues I have with this dataset, I would like to save the below variables for discussion at the end."
   ]
  },
  {
   "cell_type": "code",
   "execution_count": 23,
   "metadata": {},
   "outputs": [],
   "source": [
    "train_y_1D = train_y\n",
    "test_y_1D = test_y\n",
    "\n",
    "train_x_3D = train_x\n",
    "test_x_3D = test_x"
   ]
  },
  {
   "cell_type": "markdown",
   "metadata": {},
   "source": [
    "## 3. Prepare these datasets for the ML algorithm\n",
    "\n",
    "We will provide [One Hot Encoding](https://hackernoon.com/what-is-one-hot-encoding-why-and-when-do-you-have-to-use-it-e3c6186d008f) to the ML algorithm so that the neural network does a better job in prediction. The shape of the `train_y` and `test_y` will become `(112800, 47)`."
   ]
  },
  {
   "cell_type": "code",
   "execution_count": 24,
   "metadata": {
    "scrolled": true
   },
   "outputs": [
    {
     "name": "stdout",
     "output_type": "stream",
     "text": [
      "train_y:  (112800, 47)\n",
      "test_y:  (18800, 47)\n"
     ]
    }
   ],
   "source": [
    "train_y = utils.to_categorical(train_y, class_num)\n",
    "test_y = utils.to_categorical(test_y, class_num)\n",
    "print(\"train_y: \", train_y.shape)\n",
    "print(\"test_y: \", test_y.shape)"
   ]
  },
  {
   "cell_type": "markdown",
   "metadata": {},
   "source": [
    "The `conv2d` layer in the neural network that will be created expects 4 dimensions for the input, which will be the `train_x` and `test_x` datasets. These input arrays will also be reshaped accordingly."
   ]
  },
  {
   "cell_type": "code",
   "execution_count": 25,
   "metadata": {
    "scrolled": true
   },
   "outputs": [],
   "source": [
    "train_x = train_x.reshape(-1, HEIGHT, WIDTH, 1)\n",
    "test_x = test_x.reshape(-1, HEIGHT, WIDTH, 1)"
   ]
  },
  {
   "cell_type": "code",
   "execution_count": 26,
   "metadata": {},
   "outputs": [
    {
     "name": "stdout",
     "output_type": "stream",
     "text": [
      "(112800, 28, 28, 1)\n",
      "(18800, 28, 28, 1)\n"
     ]
    }
   ],
   "source": [
    "print(train_x.shape)\n",
    "print(test_x.shape)"
   ]
  },
  {
   "cell_type": "markdown",
   "metadata": {},
   "source": [
    "## Save the Data\n",
    "\n",
    "If you wish to perform this notebook locally, it is highly recommended that at this point you save your data so that you don't have to \"get the data\" every single time you want to create a model.\n",
    "\n",
    "`import pickle`\n",
    "\n",
    "Load the data into pickle\n",
    "\n",
    "```\n",
    "pickle_out = open(\"train_x.pickle\", \"wb\")\n",
    "pickle.dump(train_x, pickle_out)\n",
    "pickle_out.close()\n",
    "\n",
    "pickle_out = open(\"test_x.pickle\", \"wb\")\n",
    "pickle.dump(test_x, pickle_out)\n",
    "pickle_out.close()\n",
    "\n",
    "pickle_out = open(\"train_y.pickle\", \"wb\")\n",
    "pickle.dump(train_y, pickle_out)\n",
    "pickle_out.close()\n",
    "\n",
    "pickle_out = open(\"test_y.pickle\", \"wb\")\n",
    "pickle.dump(test_y, pickle_out)\n",
    "pickle_out.close()\n",
    "```\n",
    "\n"
   ]
  },
  {
   "cell_type": "markdown",
   "metadata": {},
   "source": [
    "# Create The Model\n",
    "\n",
    "The data is now successfully munged and ready to be used for the ML model.\n",
    "\n",
    "Note: models will not be created inside of this Jupyter Notebook. It is more appropriate to create models inside an IDE.\n",
    "\n",
    "## 4. Generate Multiple Permutations of Models\n",
    "\n",
    "**Users reading this file in a Jupyter Notebook kernel**\n",
    "\n",
    "For users who are viewing this file inside of their own Jupyter Notebook kernel, the below is an interactive tensorboard instance - where one can analyze every model that I have created.\n",
    "\n",
    "**Users reading this file as Static HTML**\n",
    "\n",
    "For users who are viewing this file inside of GitHub, the below tensorboard instance will not work. However, I have provided graphs down below for discussion."
   ]
  },
  {
   "cell_type": "code",
   "execution_count": 27,
   "metadata": {
    "scrolled": true
   },
   "outputs": [
    {
     "data": {
      "text/html": [
       "\n",
       "      <iframe id=\"tensorboard-frame-1ee3a9a53b02a441\" width=\"100%\" height=\"800\" frameborder=\"0\">\n",
       "      </iframe>\n",
       "      <script>\n",
       "        (function() {\n",
       "          const frame = document.getElementById(\"tensorboard-frame-1ee3a9a53b02a441\");\n",
       "          const url = new URL(\"/\", window.location);\n",
       "          url.port = 6006;\n",
       "          frame.src = url;\n",
       "        })();\n",
       "      </script>\n",
       "  "
      ],
      "text/plain": [
       "<IPython.core.display.HTML object>"
      ]
     },
     "metadata": {},
     "output_type": "display_data"
    }
   ],
   "source": [
    "# Load TENSORBOARD\n",
    "%load_ext tensorboard\n",
    "\n",
    "# Reload TENSORBOARD\n",
    "# %reload_ext tensorboard\n",
    "\n",
    "logdir = \"logs/\"\n",
    "# Start TENSORBOARD\n",
    "%tensorboard --logdir logs/"
   ]
  },
  {
   "cell_type": "markdown",
   "metadata": {},
   "source": [
    "## The First Permutation of Models\n",
    "\n",
    "The first permutation of models will be:\n",
    "1. Models with `0`, `1` and `2` dense layers\n",
    "2. Models with `32`, `64` and `128` neurons per layer\n",
    "3. Models with `1`, `2` and `3` convolutional layers\n",
    "\n",
    "These permutations will result in `3*3*3 = 27` models\n",
    "\n",
    "### Model information\n",
    "\n",
    "For all convolutional layers:\n",
    "   * The 2D convolutional height and width is `(3, 3)`.\n",
    "   * The pool region size is `(2, 2)`.\n",
    "\n",
    "For every layer excluding the output layer:\n",
    "   * The activation function used is rectified linear, `relu`, which is used as a default.\n",
    "   \n",
    "For the output layer:\n",
    "   * The last layer has 47 neurons, equal to the number of classifications given by EMNIST \"Balanced\".\n",
    "   * This layer also has a `softmax` function as the activation function, for probability distribution.\n",
    "   \n",
    "For training the model:\n",
    "   * The optimizer used is `adam`, another default go-to.\n",
    "   * The loss is calculated using the popular `categorical_crossentropy`.\n",
    "   * `accuracy` is tracked as we go.\n",
    "   \n",
    "The fitment:\n",
    "   * Each model will be trained on `10` iterations (epochs) of the dataset.\n",
    "   * `32` samples will be passed per gradient update.\n",
    "   * The validation split on `train_x` was chosen to be 10%: Training on 101520 samples, validating on 11280 samples.\n",
    "\n",
    "The code ran to generate these models is found inside the following python file: [model_permutations_1.py](https://github.com/MikeM711/Deep-Learning-Handwriting-Recognition/blob/master/data/model%20development/model_permutations_1.py)"
   ]
  },
  {
   "cell_type": "markdown",
   "metadata": {},
   "source": [
    "## The First Permutation of Models: Results\n",
    "\n",
    "After training the 27 models, the following graphs were created. \n",
    "\n",
    "Note: I have excluded the `training` runs for all results, as `validation` runs are much more useful. This is because the model does not learn on validation samples, it is unbiased data.\n",
    "\n",
    "Tensorboard users: To view the first permutation of models, filter the runs with following regex: `^(?!.*Dropout)(?!.*train).*$`"
   ]
  },
  {
   "cell_type": "code",
   "execution_count": 28,
   "metadata": {},
   "outputs": [
    {
     "data": {
      "text/html": [
       "<img src=\"tensorboard-images/first-run-acc.png\"/>"
      ],
      "text/plain": [
       "<IPython.core.display.Image object>"
      ]
     },
     "execution_count": 28,
     "metadata": {},
     "output_type": "execute_result"
    }
   ],
   "source": [
    "from IPython.display import Image\n",
    "from IPython.core.display import HTML\n",
    "\n",
    "Image(url= \"tensorboard-images/first-run-acc.png\")"
   ]
  },
  {
   "cell_type": "code",
   "execution_count": 29,
   "metadata": {
    "scrolled": true
   },
   "outputs": [
    {
     "data": {
      "text/html": [
       "<img src=\"tensorboard-images/first-run-loss.png\"/>"
      ],
      "text/plain": [
       "<IPython.core.display.Image object>"
      ]
     },
     "execution_count": 29,
     "metadata": {},
     "output_type": "execute_result"
    }
   ],
   "source": [
    "Image(url= \"tensorboard-images/first-run-loss.png\")"
   ]
  },
  {
   "cell_type": "markdown",
   "metadata": {},
   "source": [
    "### First Run of Permutations: The Good\n",
    "\n",
    "The following graphs show that models with 2 convolutional layers do very well in terms of this dataset.\n",
    "\n",
    "**Stats of models that have 2 convolutional layers**\n",
    "- The top 9 models that have the highest accuracy are models with 2 convolutional layers.\n",
    "- The top 7 models that have the lowest loss are models with 2 convolutional layers."
   ]
  },
  {
   "cell_type": "code",
   "execution_count": 30,
   "metadata": {},
   "outputs": [
    {
     "data": {
      "text/html": [
       "<img src=\"tensorboard-images/first-run-good-acc.png\" width=\"500\"/>"
      ],
      "text/plain": [
       "<IPython.core.display.Image object>"
      ]
     },
     "execution_count": 30,
     "metadata": {},
     "output_type": "execute_result"
    }
   ],
   "source": [
    "Image(url= \"tensorboard-images/first-run-good-acc.png\", width=500)"
   ]
  },
  {
   "cell_type": "code",
   "execution_count": 31,
   "metadata": {},
   "outputs": [
    {
     "data": {
      "text/html": [
       "<img src=\"tensorboard-images/first-run-good-loss.png\" width=\"500\"/>"
      ],
      "text/plain": [
       "<IPython.core.display.Image object>"
      ]
     },
     "execution_count": 31,
     "metadata": {},
     "output_type": "execute_result"
    }
   ],
   "source": [
    "Image(url= \"tensorboard-images/first-run-good-loss.png\", width=500)"
   ]
  },
  {
   "cell_type": "markdown",
   "metadata": {},
   "source": [
    "### First Run of Permutations: The Bad\n",
    "\n",
    "The following graphs show that models with 3 convolutional layers and 1 convolutional layer do relatively poorly in terms of this dataset.\n",
    "\n",
    "**Stats of models that have 3 convolutional layers and 1 convolutional layer**\n",
    "- 8 of the bottom 10 models that have the least accuracy are models with 3 convolutional layers, the rest are models with 1 convolutional layer.\n",
    "- 6 of the bottom 10 models that have the lowest loss are models with 1 convolutional layer, the rest are models with 3 convolutional layers."
   ]
  },
  {
   "cell_type": "code",
   "execution_count": 32,
   "metadata": {},
   "outputs": [
    {
     "data": {
      "text/html": [
       "<img src=\"tensorboard-images/first-run-bad-acc.png\" width=\"500\"/>"
      ],
      "text/plain": [
       "<IPython.core.display.Image object>"
      ]
     },
     "execution_count": 32,
     "metadata": {},
     "output_type": "execute_result"
    }
   ],
   "source": [
    "Image(url= \"tensorboard-images/first-run-bad-acc.png\", width=500)"
   ]
  },
  {
   "cell_type": "code",
   "execution_count": 33,
   "metadata": {},
   "outputs": [
    {
     "data": {
      "text/html": [
       "<img src=\"tensorboard-images/first-run-bad-loss.png\" width=\"500\"/>"
      ],
      "text/plain": [
       "<IPython.core.display.Image object>"
      ]
     },
     "execution_count": 33,
     "metadata": {},
     "output_type": "execute_result"
    }
   ],
   "source": [
    "Image(url= \"tensorboard-images/first-run-bad-loss.png\", width=500)"
   ]
  },
  {
   "cell_type": "markdown",
   "metadata": {},
   "source": [
    "### First Run of Permutations: The Result\n",
    "\n",
    "After running these models, it is safe to say that models that have 2 convolutional layers are clearly victorious. Models with 1 and 3 layers, not as much.\n",
    "\n",
    "In terms of parameter adjusting, the number of convolutional layers made more of an impact than the number of dense layers and the number of neruons per layer."
   ]
  },
  {
   "cell_type": "markdown",
   "metadata": {},
   "source": [
    "## Second Permutation of Models: Dropout\n",
    "\n",
    "### About Dropout\n",
    "\n",
    "The primary function for dropout is to protect the model from overfitment. Dropout will randomly \"drop\" nodes during training.\n",
    "\n",
    "[A Gentle Introduction to Dropout for Regularizing Deep Neural Networks]('https://machinelearningmastery.com/dropout-for-regularizing-deep-neural-networks/')\n",
    "\n",
    "\"[Dropout] offers a very computationally cheap and remarkably effective regularization method to reduce overfitting and improve generalization error in deep neural networks of all kinds.\"\n",
    "\n",
    "###  Dropout: Permutation of Models\n",
    "\n",
    "For this model structure, the common configuration of applying dropouts after each fully-connected dense layer was used. Dropouts after convolutional layers were avoided as they have a tendency to produce [strange results](https://towardsdatascience.com/dropout-on-convolutional-layers-is-weird-5c6ab14f19b2).\n",
    "\n",
    "That being said, the second permutation of models will be the same as the first permutation.  The only differences are:\n",
    "1. Permutations are constrained to `2` convolutional layers\n",
    "2. Permutations will not include `0` dense layers\n",
    "3. All permutations will apply `0.2` dropout after dense layers\n",
    "\n",
    "A total of `2*3*1 = 6` models will be created.\n",
    "\n",
    "The code ran to create these models: [model_permutations_2.py](https://github.com/MikeM711/Deep-Learning-Handwriting-Recognition/blob/master/data/model%20development/model_permutations_2.py)\n",
    "\n",
    "The graphs featured below represent all of the models with 2 convolutional layers, along with models that apply dropout.\n",
    "\n",
    "Tensorboard users: To view the second permutation of models along with models that have 2 convolutional layers and no dropout, filter the runs with following regex: `^(?!.*1-conv)(?!.*3-conv)(?!.*256-nodes)(?!.*train).*$`"
   ]
  },
  {
   "cell_type": "code",
   "execution_count": 34,
   "metadata": {},
   "outputs": [
    {
     "data": {
      "text/html": [
       "<img src=\"tensorboard-images/second-run-acc.png\" width=\"500\"/>"
      ],
      "text/plain": [
       "<IPython.core.display.Image object>"
      ]
     },
     "execution_count": 34,
     "metadata": {},
     "output_type": "execute_result"
    }
   ],
   "source": [
    "Image(url= \"tensorboard-images/second-run-acc.png\", width=500)"
   ]
  },
  {
   "cell_type": "code",
   "execution_count": 35,
   "metadata": {},
   "outputs": [
    {
     "data": {
      "text/html": [
       "<img src=\"tensorboard-images/second-run-loss.png\" width=\"500\"/>"
      ],
      "text/plain": [
       "<IPython.core.display.Image object>"
      ]
     },
     "execution_count": 35,
     "metadata": {},
     "output_type": "execute_result"
    }
   ],
   "source": [
    "Image(url= \"tensorboard-images/second-run-loss.png\", width=500)"
   ]
  },
  {
   "cell_type": "markdown",
   "metadata": {},
   "source": [
    "## Second Run of Permutations: Results\n",
    "\n",
    "\n",
    "**Stats of models that apply dropout**\n",
    "\n",
    "- The top 4 models that have the highest accuracies are models that apply dropout\n",
    "- The top 3 models that have the lowest losses are models that apply dropout\n",
    "\n",
    "Based on the results, it seems that dropout is the winner for this dataset."
   ]
  },
  {
   "cell_type": "markdown",
   "metadata": {},
   "source": [
    "## Final Permutation of Models: 256 nodes\n",
    "\n",
    "The third and final run of permutations will be of models with `256` nodes for each layer.\n",
    "\n",
    "The constraints of these permutations will be:\n",
    "\n",
    "1. `1` and `2` dense layers for dropout\n",
    "2. `2` Convolutional layers\n",
    "3. `256` nodes per layer\n",
    "\n",
    "A total of `2*1*1 = 2` models will be created.\n",
    "\n",
    "The code ran to create these models: [model_permutations_3.py](https://github.com/MikeM711/Deep-Learning-Handwriting-Recognition/blob/master/data/model%20development/model_permutations_3.py)\n",
    "\n",
    "The graphs featured below represent all of the models with 2 convolutional layers while applying dropout.\n",
    "\n",
    "Tensorboard users: To view the third permutation of models along with models that have 2 convolutional layers and dropout, filter the runs with following regex: `^(?!.*1-conv)(?!.*3-conv)(?!.*train)(.*Dropout).*$`"
   ]
  },
  {
   "cell_type": "code",
   "execution_count": 36,
   "metadata": {
    "scrolled": true
   },
   "outputs": [
    {
     "data": {
      "text/html": [
       "<img src=\"tensorboard-images/third-run-acc.png\" width=\"700\"/>"
      ],
      "text/plain": [
       "<IPython.core.display.Image object>"
      ]
     },
     "execution_count": 36,
     "metadata": {},
     "output_type": "execute_result"
    }
   ],
   "source": [
    "Image(url= \"tensorboard-images/third-run-acc.png\", width=700)"
   ]
  },
  {
   "cell_type": "code",
   "execution_count": 37,
   "metadata": {
    "scrolled": true
   },
   "outputs": [
    {
     "data": {
      "text/html": [
       "<img src=\"tensorboard-images/third-run-loss.png\" width=\"700\"/>"
      ],
      "text/plain": [
       "<IPython.core.display.Image object>"
      ]
     },
     "execution_count": 37,
     "metadata": {},
     "output_type": "execute_result"
    }
   ],
   "source": [
    "Image(url= \"tensorboard-images/third-run-loss.png\", width=700)"
   ]
  },
  {
   "cell_type": "markdown",
   "metadata": {},
   "source": [
    "## Final Run of Permutations: The Result\n",
    "\n",
    "**Final stats of models**\n",
    "\n",
    "In terms of accuracy and loss, models with `32` neurons do relatively worse than the rest of the group. While `64`, `128` or `256` neurons per layer are all viable options."
   ]
  },
  {
   "cell_type": "markdown",
   "metadata": {},
   "source": [
    "# The Final Model\n",
    "\n",
    "Overall, I am personally more in favor of loss than accuracy. A neural network doesn't actually attempt to maximize accuracy, it attempts to minimize loss. \n",
    "\n",
    "That being said, the model I will go with will be the following model (the dark-red run in the 2 graphs above): \n",
    "1. `2` conv layers\n",
    "2. `2` dense layers\n",
    "3. `0.2` Dropout\n",
    "3. `128` nodes per layer\n",
    "\n",
    "The code ran to generate the final model, `model_1.h1`: [final_model_1.py](https://github.com/MikeM711/Deep-Learning-Handwriting-Recognition/blob/master/data/model%20development/final_model_1.py)"
   ]
  },
  {
   "cell_type": "markdown",
   "metadata": {},
   "source": [
    "### Final Model vs Test Dataset\n",
    "\n",
    "The `test_x` dataset (the dataset that the model has never seen) has been ran against the final model, `model_1.h1`, to calculate the final accuracy."
   ]
  },
  {
   "cell_type": "code",
   "execution_count": 38,
   "metadata": {},
   "outputs": [],
   "source": [
    "import tensorflow.keras as keras\n",
    "# model = keras.models.load_model(\"../../handwriting/utils/models/Web:2-conv-128-nodes-2-dense-1-num-model-0.2-Dropout-1576190410.h5\")\n",
    "model = keras.models.load_model(\"../../handwriting/utils/models/model_1.h5\")\n",
    "\n",
    "final_model_predictions = model.predict(test_x)"
   ]
  },
  {
   "cell_type": "code",
   "execution_count": 39,
   "metadata": {},
   "outputs": [],
   "source": [
    "def correct_percentage_on_test(predictions):\n",
    "    correct = 0\n",
    "    incorrect = 0\n",
    "\n",
    "    for x in range(len(test_y)):\n",
    "        if np.argmax(predictions[x]) == np.argmax(test_y[x]):\n",
    "            correct += 1\n",
    "        else:\n",
    "            incorrect += 1\n",
    "\n",
    "    # print(correct, incorrect)\n",
    "    return (correct / (correct + incorrect)) * 100"
   ]
  },
  {
   "cell_type": "code",
   "execution_count": 40,
   "metadata": {},
   "outputs": [
    {
     "data": {
      "text/plain": [
       "87.42553191489361"
      ]
     },
     "execution_count": 40,
     "metadata": {},
     "output_type": "execute_result"
    }
   ],
   "source": [
    "correct_percentage_on_test(final_model_predictions)"
   ]
  },
  {
   "cell_type": "markdown",
   "metadata": {},
   "source": [
    "### Final Model vs Test Dataset: Result\n",
    "\n",
    "The `2 conv - 2 dense - 0.2 dropout - 128 nodes` model has achieved `87.42%` accuracy."
   ]
  },
  {
   "cell_type": "markdown",
   "metadata": {},
   "source": [
    "# 7. The Model and The Web Application: Locally\n",
    "\n",
    "This model works well with the EMNIST dataset, but will it work for us? Should we do more tweaking when it comes to predicting our own web app data?\n",
    "\n",
    "This section aims to solve any issues regarding the use of the final model within the application itself."
   ]
  },
  {
   "cell_type": "markdown",
   "metadata": {},
   "source": [
    "## Dealing with Model \"Quirks\"\n",
    "\n",
    "One obervation when using these models is that they all have some quirkiness to them, in one form or another.\n",
    "\n",
    "Here are a few examples of quirks that came up with the several `2 conv - 2 dense - 0.2 dropout - 128 nodes` models I have generated:\n",
    "\n",
    "1. One model predicted a completely vertical line \"|\" as an \"N\".\n",
    "2. Another model predicted a perfect lowercase \"a\" as a \"Q\".\n",
    "3. Some models refuse to predict a \"1\" or a \"9\".\n",
    "   * Note: this \"quirk\" may actually be fairly reasonable. There are some issues with this EMNIST dataset that will be discussed at the end\n",
    "\n",
    "During the development of this application, if I noticed some quirk, I re-routed the model to a different model. The result would, more often then not, fix the particular quirk that the previous model had.\n",
    "\n",
    "Note: the reason why I was able to achieve different results by having multiple instances of one model is because the dropout provided randomness to what each model learned. Randomness in learning = randomness in quirks.\n",
    "\n",
    "\n",
    "## Mitigating Model \"Quirkiness\"\n",
    "\n",
    "Observing that re-routing models often fixed the previous models' quirk, this led me to the idea: \"What if, instead of 1 model, I incorporate a 'jury' of 5 models, that will keep all of the other models' quirks in check?\" The most popular prediction from the 5 models would be the final prediction.\n",
    "\n",
    "This \"jury\" idea actually led to some really good results."
   ]
  },
  {
   "cell_type": "markdown",
   "metadata": {},
   "source": [
    "## The \"5 Model Jury\" Test\n",
    "\n",
    "5 models of `2 conv - 2 dense - 0.2 dropout - 128 nodes` were created and used inside of the web application.\n",
    "\n",
    "The file, [final_model_1.py](https://github.com/MikeM711/Deep-Learning-Handwriting-Recognition/blob/master/data/model%20development/final_model_1.py), was ran 5 times."
   ]
  },
  {
   "cell_type": "markdown",
   "metadata": {},
   "source": [
    "### The \"5 Model Jury\" Test: Result\n",
    "\n",
    "The below image shows the correct prediction to the presented handwriting, \"Recognition\", when using the \"5 Model Jury\"."
   ]
  },
  {
   "cell_type": "code",
   "execution_count": 41,
   "metadata": {},
   "outputs": [
    {
     "data": {
      "text/html": [
       "<img src=\"results/5-large-models-result.png\" width=\"700\"/>"
      ],
      "text/plain": [
       "<IPython.core.display.Image object>"
      ]
     },
     "execution_count": 41,
     "metadata": {},
     "output_type": "execute_result"
    }
   ],
   "source": [
    "Image(url= \"results/5-large-models-result.png\", width=700)"
   ]
  },
  {
   "cell_type": "markdown",
   "metadata": {},
   "source": [
    "### The \"5 Model Jury\" Test: Under The Hood\n",
    "\n",
    "Upon achieving the \"Recognition\" result, one can observe some quirks of a few of these models right off the bat, displayed in the image below."
   ]
  },
  {
   "cell_type": "code",
   "execution_count": 42,
   "metadata": {},
   "outputs": [
    {
     "data": {
      "text/html": [
       "<img src=\"results/5-large-models-result-under-hood.png\" width=\"700\"/>"
      ],
      "text/plain": [
       "<IPython.core.display.Image object>"
      ]
     },
     "execution_count": 42,
     "metadata": {},
     "output_type": "execute_result"
    }
   ],
   "source": [
    "Image(url= \"results/5-large-models-result-under-hood.png\", width=700)"
   ]
  },
  {
   "cell_type": "markdown",
   "metadata": {},
   "source": [
    "Quirk examples:\n",
    "- Model #5 thinks that the \"e\" is a \"Q\".\n",
    "- Model #1 thinks that both \"o\" letters are a \"Q\"\n",
    "- Model #3 thinks that both \"o\" letters are a \"0\".\n",
    "\n",
    "If one of these models were chosen to make predictions for the web application, the result would not be the correct prediction \"Recognition\" shown above.\n",
    "\n",
    "However, if we have a \"jury\" of these 5 models making decisions, most prediction quirks that a particular neural network learned on training can be mitigated."
   ]
  },
  {
   "cell_type": "markdown",
   "metadata": {},
   "source": [
    "\n",
    "\n"
   ]
  },
  {
   "cell_type": "markdown",
   "metadata": {},
   "source": [
    "# 7. The Model and The Web Application: Deploying to Heroku\n",
    "\n",
    "At this point, the final predictions of this web app are very reasonable when using the web app's canvas as the input data.\n",
    "\n",
    "The question is, will Heroku accept all of these models?"
   ]
  },
  {
   "cell_type": "markdown",
   "metadata": {},
   "source": [
    "## Heroku Errors\n",
    "As it turns out, Heroku does not play nice with these 5 models as they are 7MB in size each, and require a lot of memory to use. Below are the typical errors recieved: \n",
    "\n",
    "- `Error R15 (Memory quota vastly exceeded)` - Heroku uses over 1000M memory, which will crash the app entirely\n",
    "- `Error H12` - Application takes more than 30 seconds to respond\n",
    "\n",
    "The main issue is the fact that Heroku wants smaller model filesizes and less computation to do. In a perfect world, one could have a successful deployment of this application to a service that would allow the web app to use the memory it needs. However, in this case, I would like to continue working with Heroku."
   ]
  },
  {
   "cell_type": "markdown",
   "metadata": {},
   "source": [
    "## Cutting Down on Total Model Filesize for Heroku Deployment\n",
    "\n",
    "Below are a few ways to make the total model filesize smaller:\n",
    "1. Train models with images that are of smaller dimensions.\n",
    "2. Decrease the number of models in the \"jury\".\n",
    "3. Decrease the number of neurons per layer.\n",
    "4. Decrease the number of layers.\n",
    "\n",
    "To make the total model size smaller, I personally do not wish to make the training images smaller - they are already `28x28` in size, which is small enough. I would also prefer to keep the \"5 model jury\" if I can. \n",
    "\n",
    "I believe that the most appropriate solution would be to decrease the number of neurons and/or layers. If you are curious, the number of epochs used to train a model does not have much of an affect on filesize.\n",
    "\n",
    "**Choosing a model with no dropout**\n",
    "\n",
    "For models that do not incorporate dropout, it would not be wise to use more than one of the same model inside the web app. The reason for this is because a model with the same architecture and no dropout will learn roughly the same thing every time, thus the same quirks will be amplified if 2 or more of these models are in use.\n",
    "\n",
    "\n",
    "**Below are filesizes of potential models that can be used**\n",
    "\n",
    "`2-conv-32-nodes-0-dense.h5` = 604KB\n",
    "\n",
    "`2-conv-64-nodes-0-dense.h5` = 1.4MB\n",
    "\n",
    "`2-conv-128-nodes-0-dense.h5` = 3.6MB\n",
    "\n",
    "`2-conv-32-nodes-1-dense-0.2-Dropout.h5` = 487KB\n",
    "\n",
    "`2-conv-64-nodes-1-dense-0.2-Dropout.h5` = 1.8MB (1,763,064 bytes) (1.76 MB)\n",
    "\n",
    "`2-conv-128-nodes-1-dense-0.2-Dropout.h5` = 6.8MB\n",
    "\n",
    "`2-conv-32-nodes-2-dense-0.2-Dropout.h5` = 512KB\n",
    "\n",
    "`2-conv-64-nodes-2-dense-0.2-Dropout.h5` = 1.8MB (1,825,136 bytes) (1.82 MB) *\n",
    "\n",
    "`2-conv-128-nodes-2-dense-0.2-Dropout.h5` = 7MB *"
   ]
  },
  {
   "cell_type": "markdown",
   "metadata": {},
   "source": [
    "## Tweaking the models for Heroku: Final Decision\n",
    "\n",
    "After a lot of testing, the following models work with Heroku:\n",
    "\n",
    "- 2 models of `2-conv-128-nodes-2-dense-0.2-Dropout.h5` (7 MB each)\n",
    "   * Used by models: `model_1.h1`, `model_2.h1`, `model_3.h1`\n",
    "- 3 models of `2-conv-64-nodes-2-dense-0.2-Dropout.h5` (1.8 MB each)\n",
    "   * Used by models: `model_4.h1`, `model_5.h1`\n",
    "   * The code ran to generate these last 2 models: [final_model_2.py](https://github.com/MikeM711/Deep-Learning-Handwriting-Recognition/blob/master/data/model%20development/final_model_2.py)\n",
    " \n",
    "Again, the above models are still valuable when ran more than once, because `dropout` provides randomness to what the models learn.\n"
   ]
  },
  {
   "cell_type": "markdown",
   "metadata": {},
   "source": [
    "## 5 Models vs Test Data: Independently\n",
    "\n",
    "This section displays the accuracy of each model that has been generated.\n",
    "\n",
    "The `test_x` dataset (data that the models have never seen before) is used to test the accuracy of these models."
   ]
  },
  {
   "cell_type": "code",
   "execution_count": 43,
   "metadata": {},
   "outputs": [],
   "source": [
    "model_1 = keras.models.load_model(\"../../handwriting/utils/models/model_1.h5\") # 2-conv-128-nodes-2-dense-0.2-Dropout\n",
    "model_2 = keras.models.load_model(\"../../handwriting/utils/models/model_2.h5\") # 2-conv-128-nodes-2-dense-0.2-Dropout\n",
    "model_3 = keras.models.load_model(\"../../handwriting/utils/models/model_3.h5\") # 2-conv-64-nodes-2-dense-0.2-Dropout\n",
    "model_4 = keras.models.load_model(\"../../handwriting/utils/models/model_4.h5\") # 2-conv-64-nodes-2-dense-0.2-Dropout\n",
    "model_5 = keras.models.load_model(\"../../handwriting/utils/models/model_5.h5\") # 2-conv-64-nodes-2-dense-0.2-Dropout"
   ]
  },
  {
   "cell_type": "code",
   "execution_count": 44,
   "metadata": {},
   "outputs": [],
   "source": [
    "prediction_1 = model_1.predict(test_x)\n",
    "prediction_2 = model_2.predict(test_x)\n",
    "prediction_3 = model_3.predict(test_x)\n",
    "prediction_4 = model_4.predict(test_x)\n",
    "prediction_5 = model_5.predict(test_x)"
   ]
  },
  {
   "cell_type": "code",
   "execution_count": 45,
   "metadata": {},
   "outputs": [
    {
     "name": "stdout",
     "output_type": "stream",
     "text": [
      "Accuracy of all 5 models used inside web application\n",
      "\n",
      "Model #1: 87.42553191489361%\n",
      "Model #2: 88.38297872340426%\n",
      "Model #3: 86.89893617021276%\n",
      "Model #4: 87.22340425531915%\n",
      "Model #5: 86.98936170212765%\n"
     ]
    }
   ],
   "source": [
    "model_1_correct = correct_percentage_on_test(prediction_1)\n",
    "model_2_correct = correct_percentage_on_test(prediction_2)\n",
    "model_3_correct = correct_percentage_on_test(prediction_3)\n",
    "model_4_correct = correct_percentage_on_test(prediction_4)\n",
    "model_5_correct = correct_percentage_on_test(prediction_5)\n",
    "\n",
    "print('Accuracy of all 5 models used inside web application\\n')\n",
    "print('Model #1: {}%'.format(model_1_correct))\n",
    "print('Model #2: {}%'.format(model_2_correct))\n",
    "print('Model #3: {}%'.format(model_3_correct))\n",
    "print('Model #4: {}%'.format(model_4_correct))\n",
    "print('Model #5: {}%'.format(model_5_correct))"
   ]
  },
  {
   "cell_type": "markdown",
   "metadata": {},
   "source": [
    "## 5 Models vs Test Data: Combined\n",
    "\n",
    "This section displays the accuracy of all 5 models working together to create one prediction.\n",
    "\n",
    "The resulting output of `model_jury_ruling` will be the most popular prediction between the 5 models. If there is a tie between predictions, the item predicted first receives precedence. This operation works in this case, because the first 2 models are known to be more accurate than the last 3 models."
   ]
  },
  {
   "cell_type": "code",
   "execution_count": 46,
   "metadata": {},
   "outputs": [],
   "source": [
    "def make_prediction(model, img):\n",
    "    prediction = model.predict(img)\n",
    "    idx_prediction = np.argmax(prediction[0])\n",
    "    return class_mapping[idx_prediction]\n",
    "\n",
    "def model_jury_ruling(*argv):\n",
    "    all_predictions = []\n",
    "    for arg in argv:\n",
    "        all_predictions.append(arg)\n",
    "\n",
    "    hash = {}\n",
    "\n",
    "    for prediction in all_predictions:\n",
    "        if prediction not in hash:\n",
    "            hash[prediction] = 1\n",
    "        else:\n",
    "            hash[prediction] += 1\n",
    "\n",
    "    # print(hash)\n",
    "\n",
    "    # If all models do not have a unanimous vote, majority rules\n",
    "    # Note: If there is a tie, the first item of the tie that is added gets priority over rest of the items\n",
    "    return max(hash, key=hash.get)"
   ]
  },
  {
   "cell_type": "code",
   "execution_count": 47,
   "metadata": {},
   "outputs": [
    {
     "name": "stdout",
     "output_type": "stream",
     "text": [
      "Accuracy of combined models: 88.77127659574468%\n"
     ]
    }
   ],
   "source": [
    "combined_correct = 0\n",
    "combined_incorrect = 0\n",
    "\n",
    "for i in range(len(test_y)):\n",
    "    model_1_pred = np.argmax(prediction_1[i])\n",
    "    model_2_pred = np.argmax(prediction_2[i])\n",
    "    model_3_pred = np.argmax(prediction_3[i])\n",
    "    model_4_pred = np.argmax(prediction_4[i])\n",
    "    model_5_pred = np.argmax(prediction_5[i])\n",
    "\n",
    "    combined_model_prediction = model_jury_ruling(model_1_pred, model_2_pred, model_3_pred, model_4_pred, model_5_pred)\n",
    "    # print(combined_model_prediction)\n",
    "\n",
    "    if combined_model_prediction == np.argmax(test_y[i]):\n",
    "        combined_correct += 1\n",
    "    else:\n",
    "        combined_incorrect += 1\n",
    "\n",
    "accuracy_of_combined_models = (combined_correct / (combined_correct + combined_incorrect))* 100\n",
    "print('Accuracy of combined models: {}%'.format(accuracy_of_combined_models))"
   ]
  },
  {
   "cell_type": "markdown",
   "metadata": {},
   "source": [
    "## Final Verdict\n",
    "\n",
    "The accuracy of the combined models is `88.77%`. This is slightly better than the best independent model, `model_2.h5` with `88.38%` accuracy.\n",
    "\n",
    "During development of this web app - this accuracy difference is clearly noticeable. For example, `model_2.h5` has a hard time predicting `1`. This model has a tendency to veer off far into `Z` or `2`, so the majority of models keep this \"quirk\" in check by predicting `1` or `I` at the very least (and quite often - I will discuss the reason for this at the end)."
   ]
  },
  {
   "cell_type": "markdown",
   "metadata": {},
   "source": [
    "## Final Models Deployed to Heroku\n",
    "`model_1.h5` and `model_2.h5`\n",
    "- Architecture: 2 convolutional layers, 2 dense layers, 128 neurons, 0.2 dropout, ran at 10 epochs\n",
    "- Filesize: 7MB each\n",
    "\n",
    "`model_3.h5`, `model_4.h5` and `model_5.h5`\n",
    "- Architecture: 2 convolutional layers, 2 dense layers, 64 neurons, 0.2 dropout, ran at 10 epochs\n",
    "- Filesize: 1.8MB each"
   ]
  },
  {
   "cell_type": "code",
   "execution_count": 48,
   "metadata": {
    "scrolled": false
   },
   "outputs": [
    {
     "name": "stdout",
     "output_type": "stream",
     "text": [
      "Model: \"sequential_3\"\n",
      "_________________________________________________________________\n",
      "Layer (type)                 Output Shape              Param #   \n",
      "=================================================================\n",
      "conv2d_6 (Conv2D)            (None, 26, 26, 128)       1280      \n",
      "_________________________________________________________________\n",
      "activation_12 (Activation)   (None, 26, 26, 128)       0         \n",
      "_________________________________________________________________\n",
      "max_pooling2d_6 (MaxPooling2 (None, 13, 13, 128)       0         \n",
      "_________________________________________________________________\n",
      "conv2d_7 (Conv2D)            (None, 11, 11, 128)       147584    \n",
      "_________________________________________________________________\n",
      "activation_13 (Activation)   (None, 11, 11, 128)       0         \n",
      "_________________________________________________________________\n",
      "max_pooling2d_7 (MaxPooling2 (None, 5, 5, 128)         0         \n",
      "_________________________________________________________________\n",
      "flatten_3 (Flatten)          (None, 3200)              0         \n",
      "_________________________________________________________________\n",
      "dense_9 (Dense)              (None, 128)               409728    \n",
      "_________________________________________________________________\n",
      "activation_14 (Activation)   (None, 128)               0         \n",
      "_________________________________________________________________\n",
      "dropout_6 (Dropout)          (None, 128)               0         \n",
      "_________________________________________________________________\n",
      "dense_10 (Dense)             (None, 128)               16512     \n",
      "_________________________________________________________________\n",
      "activation_15 (Activation)   (None, 128)               0         \n",
      "_________________________________________________________________\n",
      "dropout_7 (Dropout)          (None, 128)               0         \n",
      "_________________________________________________________________\n",
      "dense_11 (Dense)             (None, 47)                6063      \n",
      "=================================================================\n",
      "Total params: 581,167\n",
      "Trainable params: 581,167\n",
      "Non-trainable params: 0\n",
      "_________________________________________________________________\n"
     ]
    }
   ],
   "source": [
    "model_1.summary() # model_1.h5, model_2.h5"
   ]
  },
  {
   "cell_type": "code",
   "execution_count": 49,
   "metadata": {
    "scrolled": false
   },
   "outputs": [
    {
     "name": "stdout",
     "output_type": "stream",
     "text": [
      "Model: \"sequential\"\n",
      "_________________________________________________________________\n",
      "Layer (type)                 Output Shape              Param #   \n",
      "=================================================================\n",
      "conv2d (Conv2D)              (None, 26, 26, 64)        640       \n",
      "_________________________________________________________________\n",
      "activation (Activation)      (None, 26, 26, 64)        0         \n",
      "_________________________________________________________________\n",
      "max_pooling2d (MaxPooling2D) (None, 13, 13, 64)        0         \n",
      "_________________________________________________________________\n",
      "conv2d_1 (Conv2D)            (None, 11, 11, 64)        36928     \n",
      "_________________________________________________________________\n",
      "activation_1 (Activation)    (None, 11, 11, 64)        0         \n",
      "_________________________________________________________________\n",
      "max_pooling2d_1 (MaxPooling2 (None, 5, 5, 64)          0         \n",
      "_________________________________________________________________\n",
      "flatten (Flatten)            (None, 1600)              0         \n",
      "_________________________________________________________________\n",
      "dense (Dense)                (None, 64)                102464    \n",
      "_________________________________________________________________\n",
      "activation_2 (Activation)    (None, 64)                0         \n",
      "_________________________________________________________________\n",
      "dropout (Dropout)            (None, 64)                0         \n",
      "_________________________________________________________________\n",
      "dense_1 (Dense)              (None, 64)                4160      \n",
      "_________________________________________________________________\n",
      "activation_3 (Activation)    (None, 64)                0         \n",
      "_________________________________________________________________\n",
      "dropout_1 (Dropout)          (None, 64)                0         \n",
      "_________________________________________________________________\n",
      "dense_2 (Dense)              (None, 47)                3055      \n",
      "=================================================================\n",
      "Total params: 147,247\n",
      "Trainable params: 147,247\n",
      "Non-trainable params: 0\n",
      "_________________________________________________________________\n"
     ]
    }
   ],
   "source": [
    "model_3.summary() # model_3.h5, model_4.h5 and model_5.h5"
   ]
  },
  {
   "cell_type": "markdown",
   "metadata": {},
   "source": [
    "## EMNIST Dataset Discussion: Issues\n",
    "\n",
    "The EMNIST dataset has provided some very good results for this web app. However, the biggest issue with this dataset are the many samples that look incredibly similar to each other, but have different classifications to them.\n",
    "\n",
    "The biggest offenders of this are:\n",
    "1. Many samples of `1`, `L`, and `I` include simple vertical lines.\n",
    "2. Many `q` samples look exactly like a `9`.\n",
    "3. The samples of `0` and `O` look very similar to each other.\n",
    "\n",
    "All of this makes having to learn these characters very difficult to do."
   ]
  },
  {
   "cell_type": "code",
   "execution_count": 50,
   "metadata": {},
   "outputs": [],
   "source": [
    "def plot_6x6_images_of_one_character_train(character):\n",
    "    # Plot 6 columns and 6 rows for a subplot\n",
    "    train_1_cols = 6\n",
    "    train_1_rows = 6\n",
    "\n",
    "    # Create a figure, where each figure has a size (8,8)\n",
    "    fig=plt.figure(figsize=(8, 8))\n",
    "\n",
    "    num_char_count = 0\n",
    "\n",
    "    for img in range(len(train_x_3D)):\n",
    "        if class_mapping[train_y_1D[img]] == character:\n",
    "            num_char_count += 1\n",
    "            # each plot will initate the same rows and cols, for the 3rd param we will iterate from 1 to (rows * cols)\n",
    "            fig.add_subplot(train_1_rows, train_1_cols, num_char_count)\n",
    "            fig.tight_layout()\n",
    "            #image to show is the test_x\n",
    "            plt.imshow(train_x_3D[img], cmap=plt.get_cmap('gray'))\n",
    "            plt.title(class_mapping[train_y_1D[img]])\n",
    "        if num_char_count == train_1_cols * train_1_rows:\n",
    "            break\n",
    "    plt.show()\n",
    "    "
   ]
  },
  {
   "cell_type": "markdown",
   "metadata": {},
   "source": [
    "### EMNIST: \"1\",\"L\",\"I\"\n",
    "\n",
    "The following code displays 36 of the 2400 samples of EMNIST's `1`, `L`, and `I`, that the model learned from.\n",
    "\n",
    "**The Issue:** many of these samples all contain simple vertical lines."
   ]
  },
  {
   "cell_type": "code",
   "execution_count": 51,
   "metadata": {},
   "outputs": [
    {
     "data": {
      "image/png": "[encoded data removed]",
      "text/plain": [
       "<Figure size 576x576 with 36 Axes>"
      ]
     },
     "metadata": {
      "needs_background": "light"
     },
     "output_type": "display_data"
    }
   ],
   "source": [
    "plot_6x6_images_of_one_character_train('1')"
   ]
  },
  {
   "cell_type": "code",
   "execution_count": 52,
   "metadata": {},
   "outputs": [
    {
     "data": {
      "image/png": "[encoded data removed]",
      "text/plain": [
       "<Figure size 576x576 with 36 Axes>"
      ]
     },
     "metadata": {
      "needs_background": "light"
     },
     "output_type": "display_data"
    }
   ],
   "source": [
    "plot_6x6_images_of_one_character_train('L')"
   ]
  },
  {
   "cell_type": "code",
   "execution_count": 53,
   "metadata": {},
   "outputs": [
    {
     "data": {
      "image/png": "[encoded data removed]",
      "text/plain": [
       "<Figure size 576x576 with 36 Axes>"
      ]
     },
     "metadata": {
      "needs_background": "light"
     },
     "output_type": "display_data"
    }
   ],
   "source": [
    "plot_6x6_images_of_one_character_train('I')"
   ]
  },
  {
   "cell_type": "markdown",
   "metadata": {},
   "source": [
    "### \"1\",\"L\",\"I\": Going Forward\n",
    "\n",
    "The neural network models created using this dataset would benefit if there weren't such similar samples between these 3 classifications. It would be helpful if all simple vertical lines were samples toward a new classification of a lowercase `L`.  I believe the web app's users would fully understand receiving a lowercase `L` as a result of a vertical line, as they are much closer to that character than `I` or `1`."
   ]
  },
  {
   "cell_type": "markdown",
   "metadata": {},
   "source": [
    "### EMNIST: \"q\" and \"9\"\n",
    "\n",
    "The following code displays 36 of the 2400 samples of EMNIST's `q` and `9`, that the model learned from.\n",
    "\n",
    "**The Issue:** many of the `q` samples look like a `9` and sometimes an `8`."
   ]
  },
  {
   "cell_type": "code",
   "execution_count": 54,
   "metadata": {},
   "outputs": [
    {
     "data": {
      "image/png": "[encoded data removed]",
      "text/plain": [
       "<Figure size 576x576 with 36 Axes>"
      ]
     },
     "metadata": {
      "needs_background": "light"
     },
     "output_type": "display_data"
    }
   ],
   "source": [
    "plot_6x6_images_of_one_character_train('q')"
   ]
  },
  {
   "cell_type": "code",
   "execution_count": 55,
   "metadata": {},
   "outputs": [
    {
     "data": {
      "image/png": "[encoded data removed]",
      "text/plain": [
       "<Figure size 576x576 with 36 Axes>"
      ]
     },
     "metadata": {
      "needs_background": "light"
     },
     "output_type": "display_data"
    }
   ],
   "source": [
    "plot_6x6_images_of_one_character_train('9')"
   ]
  },
  {
   "cell_type": "markdown",
   "metadata": {},
   "source": [
    "### \"q\" and \"9\": Going Forward\n",
    "\n",
    "One way to benefit these neural network models is if the `q` samples that did not have the \"tail\" were filtered out of the dataset."
   ]
  },
  {
   "cell_type": "markdown",
   "metadata": {},
   "source": [
    "### EMNIST: \"0\" and \"O\"\n",
    "\n",
    "The following code displays 36 of the 2400 samples of EMNIST's `0` and `O`, that the model learned from.\n",
    "\n",
    "**The Issue:** both the `0` and `O` samples look very similar to each other.\n"
   ]
  },
  {
   "cell_type": "code",
   "execution_count": 56,
   "metadata": {},
   "outputs": [
    {
     "data": {
      "image/png": "[encoded data removed]",
      "text/plain": [
       "<Figure size 576x576 with 36 Axes>"
      ]
     },
     "metadata": {
      "needs_background": "light"
     },
     "output_type": "display_data"
    }
   ],
   "source": [
    "plot_6x6_images_of_one_character_train('0') # Zero"
   ]
  },
  {
   "cell_type": "code",
   "execution_count": 57,
   "metadata": {},
   "outputs": [
    {
     "data": {
      "image/png": "[encoded data removed]",
      "text/plain": [
       "<Figure size 576x576 with 36 Axes>"
      ]
     },
     "metadata": {
      "needs_background": "light"
     },
     "output_type": "display_data"
    }
   ],
   "source": [
    "plot_6x6_images_of_one_character_train('O') # Uppercase O"
   ]
  },
  {
   "cell_type": "markdown",
   "metadata": {},
   "source": [
    "### \"0\" and \"O\": Going Forward\n",
    "\n",
    "This particular issue is a tough one to solve. I personally draw my `O` and `0` characters the exact same way. I would say that the best way to solve this problem would be to have all `0` samples skinny, and all `O` samples fat, and filter the rest of the samples out and create new samples if need be."
   ]
  },
  {
   "cell_type": "markdown",
   "metadata": {},
   "source": [
    "## Conclusion\n",
    "\n",
    "Overall, using the EMNIST Balanced dataset provided by Kaggle, has yield very good results for my web application. The inputs from the canvas worked almost the same as the EMNIST's physical handwriting samples.  There were a few issues with the dataset addressed above, but the dataset is targeting more of a \"real world\" scenario than an app for deciphering handwriting. \n",
    "\n",
    "The model \"jury\" for mitigating quirks was also a valuable idea that I am very proud of. It allowed the web app predictions to not go too far off the track.\n",
    "\n",
    "If you are deploying this web app to a service that allows more memory than Heroku, consider making x5 models of `2-conv-128-nodes-2-dense-0.2-Dropout.h5`."
   ]
  }
 ],
 "metadata": {
  "kernelspec": {
   "display_name": "Python 3",
   "language": "python",
   "name": "python3"
  },
  "language_info": {
   "codemirror_mode": {
    "name": "ipython",
    "version": 3
   },
   "file_extension": ".py",
   "mimetype": "text/x-python",
   "name": "python",
   "nbconvert_exporter": "python",
   "pygments_lexer": "ipython3",
   "version": "3.6.8"
  }
 },
 "nbformat": 4,
 "nbformat_minor": 2
}
